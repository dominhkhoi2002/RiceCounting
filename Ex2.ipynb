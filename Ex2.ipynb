{
 "cells": [
  {
   "cell_type": "code",
   "execution_count": 1,
   "metadata": {
    "collapsed": false
   },
   "outputs": [],
   "source": [
    "import warnings\n",
    "warnings.filterwarnings(\"ignore\")\n",
    "\n",
    "import os\n",
    "import numpy as np\n",
    "import cv2\n",
    "from cv2 import xfeatures2d\n",
    "import matplotlib.pyplot as plt\n",
    "import pickle\n",
    "import sklearn\n",
    "\n",
    "from sklearn.cluster import KMeans\n",
    "from scipy.spatial.distance import cdist"
   ]
  },
  {
   "cell_type": "code",
   "execution_count": 2,
   "metadata": {
    "collapsed": true
   },
   "outputs": [],
   "source": [
    "def load_image(image_path):\n",
    "    return cv2.imread(image_path)"
   ]
  },
  {
   "cell_type": "code",
   "execution_count": 4,
   "metadata": {
    "collapsed": true
   },
   "outputs": [],
   "source": [
    "def statistic():\n",
    "    label = []\n",
    "    num_images = []\n",
    "    for lab in os.listdir('trainingset'):\n",
    "        label.append(lab)\n",
    "        num_images.append(len(os.listdir(os.path.join('trainingset', lab))))\n",
    "\n",
    "    return label, num_images"
   ]
  },
  {
   "cell_type": "code",
   "execution_count": 5,
   "metadata": {
    "collapsed": false
   },
   "outputs": [
    {
     "data": {
      "image/png": "[encoded data removed]",
      "text/plain": [
       "<Figure size 432x288 with 1 Axes>"
      ]
     },
     "metadata": {
      "needs_background": "light"
     },
     "output_type": "display_data"
    },
    {
     "name": "stdout",
     "output_type": "stream",
     "text": [
      "Total images: 1855\n"
     ]
    }
   ],
   "source": [
    "label, num_images = statistic()\n",
    "\n",
    "y_pos = np.arange(len(label))\n",
    "\n",
    "plt.barh(y_pos, num_images, align='center', alpha=0.5)\n",
    "plt.yticks(y_pos, label)\n",
    "plt.show()\n",
    "\n",
    "print('Total images: %d' %(sum(num_images)))"
   ]
  },
  {
   "cell_type": "code",
   "execution_count": 6,
   "metadata": {
    "collapsed": true
   },
   "outputs": [],
   "source": [
    "def read_data(label2id):\n",
    "    X = []\n",
    "    Y = []\n",
    "\n",
    "    for label in os.listdir('trainingset'):\n",
    "        for img_file in os.listdir(os.path.join('trainingset', label)):\n",
    "        \n",
    "            img = load_image(os.path.join('trainingset', label, img_file))\n",
    "            X.append(img)\n",
    "            Y.append(label2id[label])\n",
    "    return X, Y"
   ]
  },
  {
   "cell_type": "code",
   "execution_count": 7,
   "metadata": {
    "collapsed": false
   },
   "outputs": [
    {
     "name": "stdout",
     "output_type": "stream",
     "text": [
      "1855\n",
      "1855\n",
      "(168, 134, 3)\n",
      "4\n"
     ]
    }
   ],
   "source": [
    "# Label to id, used to convert string label to integer \n",
    "label2id = {'pedestrian':0, 'moto':1, 'truck':2, 'car':3, 'bus':4}\n",
    "X, Y = read_data(label2id)\n",
    "print(len(X))\n",
    "print(len(Y))\n",
    "print(X[0].shape)\n",
    "print(Y[0])"
   ]
  },
  {
   "cell_type": "markdown",
   "metadata": {},
   "source": [
    "## Câu hỏi 2: Trích xuất đặc trưng (features extraction)\n",
    "\n",
    "Ở câu hỏi này chúng ta sẽ lần lượt thực hiện các công việc: trích xuất đặc trưng SIFT (SIFT keypoints descriptor), xây dựng từ điển và mô hình Bag-of-Word (BoW). Bạn hãy lập trình hoàn chỉnh các hàm theo yêu cầu cụ thể dưới đây\n",
    "\n",
    "### Câu hỏi 2.1: Trích xuất đặc trưng SIFT\n",
    "\n",
    "Hãy lập trình hàm extract_sift_features() nhận đầu vào là list ảnh ta đã xây dựng được từ câu hỏi trước và trả về list image_descriptors, phần tử thứ p trong list image_descriptors lại là một list chứa các SIFT keypoints descriptor ứng với ảnh thứ p trong list X.\n",
    "\n",
    "Gợi ý: Để khởi tạo đối tượng SIFT trong OpenCV ta sử dụng lệnh: sift = cv2.xfeatures2d.SIFT_create(). Đối tượng này có phương thức detectAndCompute trả về 2 outputs kp và des, kp là một list chứa các keypoints được detect bởi SIFT, des là một numpy array chứa len(kp) vectors 128 chiều. Chúng ta sẽ dùng các des này để phục vụ bài toán phân loại."
   ]
  },
  {
   "cell_type": "code",
   "execution_count": 8,
   "metadata": {
    "collapsed": true
   },
   "outputs": [],
   "source": [
    "def extract_sift_features(X):\n",
    "    image_descriptors = []\n",
    "    sift = cv2.xfeatures2d.SIFT_create()\n",
    "\n",
    "    for i in range(len(X)):\n",
    "        kp, des = sift.detectAndCompute(X[i], None)\n",
    "    \n",
    "        image_descriptors.append(des)\n",
    "        \n",
    "\n",
    "    return image_descriptors"
   ]
  },
  {
   "cell_type": "code",
   "execution_count": 9,
   "metadata": {
    "collapsed": false
   },
   "outputs": [
    {
     "name": "stdout",
     "output_type": "stream",
     "text": [
      "1855\n",
      "<class 'numpy.ndarray'>\n",
      "Image 0 has 109 descriptors\n",
      "Image 1 has 148 descriptors\n",
      "Image 2 has 57 descriptors\n",
      "Image 3 has 29 descriptors\n",
      "Image 4 has 83 descriptors\n",
      "Image 5 has 28 descriptors\n",
      "Image 6 has 219 descriptors\n",
      "Image 7 has 22 descriptors\n",
      "Image 8 has 62 descriptors\n",
      "Image 9 has 181 descriptors\n"
     ]
    }
   ],
   "source": [
    "image_descriptors = extract_sift_features(X)\n",
    "print(len(image_descriptors))\n",
    "print(type(image_descriptors[0][0]))\n",
    "for i in range(10):\n",
    "    print('Image {} has {} descriptors'.format(i, len(image_descriptors[i])))"
   ]
  },
  {
   "cell_type": "markdown",
   "metadata": {},
   "source": [
    "### Câu hỏi 2.2: Xây dựng từ điển\n",
    "Hãy lập trình hàm kmeans_bow() nhận đầu vào là một list gồm tất cả các descriptors của các ảnh trong tập X và số cụm num_clusters, sử dụng thuật toán KMeans trong scikit-learn phân cụm các vector descriptors này thành num_clusters cụm. Hàm trả về một danh sách center của các cụm. Vì thao tác này mất rất nhiều thời gian nên ta sẽ lưu danh sách trả về bởi hàm kmeans_bow() ra một file nhị phân (sử dụng thư viện pickle) để tiện sử dụng sau này."
   ]
  },
  {
   "cell_type": "markdown",
   "metadata": {},
   "source": [
    "Trước tiên ta sẽ xây dựng một list chứa tất cả các descriptors:"
   ]
  },
  {
   "cell_type": "code",
   "execution_count": 10,
   "metadata": {
    "collapsed": false
   },
   "outputs": [
    {
     "name": "stdout",
     "output_type": "stream",
     "text": [
      "Total number of descriptors: 171045\n"
     ]
    }
   ],
   "source": [
    "all_descriptors = []\n",
    "for descriptors in image_descriptors:\n",
    "    if descriptors is not None:\n",
    "        for des in descriptors:\n",
    "            all_descriptors.append(des)\n",
    "print('Total number of descriptors: %d' %(len(all_descriptors)))"
   ]
  },
  {
   "cell_type": "markdown",
   "metadata": {},
   "source": [
    "Hãy lập trình hàm kmeans_bow().\n",
    "\n",
    "Gợi ý: Trong thư viện sklearn, để khởi tạo một đối tượng kmeans ta sử dụng lệnh:\n",
    "kmeans = sklearn.cluster.KMeans(n_clusters=num_clusters)\n",
    "\n",
    "Đối tượng kmeans có phương thức fit, nhận vào các điểm dữ liệu (trong bài toán hiện tại của chúng ta là list all_descriptors) và tìm ra n_clusters vector là tâm của các cụm dữ liệu. Để lấy được các vector này ta sử dụng thuộc tính $cluster_centers_$  của đối tượng kmeans"
   ]
  },
  {
   "cell_type": "code",
   "execution_count": 11,
   "metadata": {
    "collapsed": true
   },
   "outputs": [],
   "source": [
    "def kmeans_bow(all_descriptors, num_clusters):\n",
    "    bow_dict = []\n",
    "    kmeans = KMeans(n_clusters=num_clusters).fit(all_descriptors)\n",
    "    bow_dict = kmeans.cluster_centers_\n",
    "\n",
    "    return bow_dict"
   ]
  },
  {
   "cell_type": "code",
   "execution_count": 12,
   "metadata": {
    "collapsed": false
   },
   "outputs": [
    {
     "name": "stdout",
     "output_type": "stream",
     "text": [
      "5\n",
      "<class 'numpy.ndarray'>\n"
     ]
    }
   ],
   "source": [
    "num_clusters = 5\n",
    "if not os.path.isfile('bow_dictionary150.pkl'):\n",
    "    BoW = kmeans_bow(all_descriptors, num_clusters)\n",
    "    pickle.dump(BoW, open('bow_dictionary150.pkl', 'wb'))\n",
    "else:\n",
    "    BoW = pickle.load(open('bow_dictionary150.pkl', 'rb'))\n",
    "    \n",
    "print(len(BoW))\n",
    "print(type(BoW[0]))"
   ]
  },
  {
   "cell_type": "markdown",
   "metadata": {},
   "source": [
    "### Câu hỏi 2.3: Xây dựng vector đặc trưng với mô hình BoW\n",
    "\n",
    "Hãy xây dựng hàm create_features_bow() nhận đầu vào là list image_descriptors, list BoW và num_clusters ở trên, trả về list X_features, trong đó phần tử thứ p của X_vectors là vector đặc trưng theo mô hình BoW ứng với ảnh thứ p, tập keypoint descriptors thứ p. Hãy chú ý sự tương ứng các phần tử trong 4 danh sách: X, Y, image_descriptors, X_features."
   ]
  },
  {
   "cell_type": "code",
   "execution_count": 13,
   "metadata": {
    "collapsed": true
   },
   "outputs": [],
   "source": [
    "from scipy.spatial.distance import cdist"
   ]
  },
  {
   "cell_type": "code",
   "execution_count": 14,
   "metadata": {
    "collapsed": true
   },
   "outputs": [],
   "source": [
    "def create_features_bow(image_descriptors, BoW, num_clusters):\n",
    "    X_features = []\n",
    "\n",
    "    for i in range(len(image_descriptors)):\n",
    "        features = np.array([0] * num_clusters)\n",
    "\n",
    "        if image_descriptors[i] is not None:\n",
    "            distance = cdist(image_descriptors[i], BoW)\n",
    "        \n",
    "            argmin = np.argmin(distance, axis=1)\n",
    "            \n",
    "            for j in argmin:\n",
    "                features[j] += 1\n",
    "            \n",
    "\n",
    "        X_features.append(features)\n",
    "\n",
    "\n",
    "    return X_features"
   ]
  },
  {
   "cell_type": "code",
   "execution_count": 15,
   "metadata": {
    "collapsed": false
   },
   "outputs": [
    {
     "name": "stdout",
     "output_type": "stream",
     "text": [
      "(109, 128)\n",
      "(128,)\n",
      "1855\n",
      "[17 13 22 20 37]\n",
      "109\n",
      "109\n"
     ]
    }
   ],
   "source": [
    "print(image_descriptors[0].shape)\n",
    "print(BoW[0].shape)\n",
    "X_features = create_features_bow(image_descriptors, BoW, num_clusters)\n",
    "print(len(X_features))\n",
    "print(X_features[0])\n",
    "print(sum(X_features[0]))\n",
    "print(image_descriptors[0].shape[0])"
   ]
  },
  {
   "cell_type": "markdown",
   "metadata": {},
   "source": [
    "## Câu hỏi 3: Xây dựng mô hình\n",
    "Từ các câu hỏi trước chúng ta đã xây dựng được vector đặc trưng ứng với mỗi ảnh trong bộ dữ liệu. Ở câu hỏi này chúng ta sẽ xây dựng các mô hình phân loại SVM"
   ]
  },
  {
   "cell_type": "code",
   "execution_count": 16,
   "metadata": {
    "collapsed": false
   },
   "outputs": [
    {
     "name": "stdout",
     "output_type": "stream",
     "text": [
      "1855\n",
      "1855\n"
     ]
    }
   ],
   "source": [
    "print(len(X_features))\n",
    "print(len(Y))"
   ]
  },
  {
   "cell_type": "markdown",
   "metadata": {},
   "source": [
    "Chia tập dữ liệu thành tập train/test:"
   ]
  },
  {
   "cell_type": "code",
   "execution_count": 17,
   "metadata": {
    "collapsed": false
   },
   "outputs": [
    {
     "name": "stdout",
     "output_type": "stream",
     "text": [
      "1484\n",
      "371\n"
     ]
    }
   ],
   "source": [
    "from sklearn.model_selection import train_test_split\n",
    "\n",
    "X_train = [] \n",
    "X_test = []\n",
    "Y_train = []\n",
    "Y_test = []\n",
    "X_train, X_test, Y_train, Y_test = train_test_split(X_features, Y, test_size=0.2, random_state=42)\n",
    "\n",
    "print(len(X_train))\n",
    "print(len(X_test))"
   ]
  },
  {
   "cell_type": "markdown",
   "metadata": {},
   "source": [
    "Khai báo đối tượng SVM:"
   ]
  },
  {
   "cell_type": "code",
   "execution_count": 18,
   "metadata": {
    "collapsed": false
   },
   "outputs": [
    {
     "name": "stdout",
     "output_type": "stream",
     "text": [
      "SVC(C=30)\n"
     ]
    }
   ],
   "source": [
    "svm = sklearn.svm.SVC(C = 30)\n",
    "print(svm)"
   ]
  },
  {
   "cell_type": "markdown",
   "metadata": {},
   "source": [
    "Huấn luyện, kiểm tra độ chính xác của mô hình tương tự như các bài học trước (sử dụng các hàm fit, predict, score,... của đối tượng svm)"
   ]
  },
  {
   "cell_type": "markdown",
   "metadata": {},
   "source": [
    "Huấn luyện mô hình:"
   ]
  },
  {
   "cell_type": "code",
   "execution_count": 19,
   "metadata": {
    "collapsed": false
   },
   "outputs": [
    {
     "data": {
      "text/plain": [
       "SVC(C=30)"
      ]
     },
     "execution_count": 19,
     "metadata": {},
     "output_type": "execute_result"
    }
   ],
   "source": [
    "svm.fit(X_train, Y_train)"
   ]
  },
  {
   "cell_type": "markdown",
   "metadata": {},
   "source": [
    "Tính độ chính xác trên tập dữ liệu huấn luyện:"
   ]
  },
  {
   "cell_type": "code",
   "execution_count": 20,
   "metadata": {
    "collapsed": false
   },
   "outputs": [
    {
     "data": {
      "text/plain": [
       "0.6212938005390836"
      ]
     },
     "execution_count": 20,
     "metadata": {},
     "output_type": "execute_result"
    }
   ],
   "source": [
    "svm.score(X_train, Y_train)"
   ]
  },
  {
   "cell_type": "markdown",
   "metadata": {},
   "source": [
    "Tính độ chính xác trên tập dữ liệu test:"
   ]
  },
  {
   "cell_type": "code",
   "execution_count": 21,
   "metadata": {
    "collapsed": false
   },
   "outputs": [
    {
     "data": {
      "text/plain": [
       "0.5983827493261455"
      ]
     },
     "execution_count": 21,
     "metadata": {},
     "output_type": "execute_result"
    }
   ],
   "source": [
    "svm.score(X_test, Y_test)"
   ]
  },
  {
   "cell_type": "markdown",
   "metadata": {},
   "source": [
    "## Câu hỏi 4: Dùng mô hình đã huấn luyện dự đoán hình ảnh thực tế\n",
    "\n",
    "Cuối cùng ta sẽ dùng thử mô hình đã huấn luyện để đưa ra dự đoán về một hình ảnh thực tế. Chúng ta sẽ làm lần lượt các bước: đọc ảnh, trích xuất đặc trưng BoW của ảnh, dự đoán sử dụng mô hình đã huấn luyện."
   ]
  },
  {
   "cell_type": "markdown",
   "metadata": {},
   "source": [
    "__Bước 1__: Đọc ảnh ở đường dẫn image_test/car.png, lưu ảnh vào biến img"
   ]
  },
  {
   "cell_type": "code",
   "execution_count": 22,
   "metadata": {
    "collapsed": false
   },
   "outputs": [
    {
     "data": {
      "image/png": "[encoded data removed]",
      "text/plain": [
       "<Figure size 432x288 with 1 Axes>"
      ]
     },
     "metadata": {
      "needs_background": "light"
     },
     "output_type": "display_data"
    }
   ],
   "source": [
    "img = None\n",
    "\n",
    "\n",
    "img = load_image('image_test/car.png')\n",
    "\n",
    "\n",
    "plt.imshow(cv2.cvtColor(img, cv2.COLOR_BGR2RGB))\n",
    "plt.show()\n",
    "\n",
    "my_X = [img]"
   ]
  },
  {
   "cell_type": "markdown",
   "metadata": {},
   "source": [
    "__Bước 2__: Trích xuất đặc trưng SIFT (lưu vào biến my_image_descriptors) và BoW (lưu vào biến my_X_features) từ my_X:"
   ]
  },
  {
   "cell_type": "code",
   "execution_count": 23,
   "metadata": {
    "collapsed": false
   },
   "outputs": [
    {
     "name": "stdout",
     "output_type": "stream",
     "text": [
      "1\n",
      "(5,)\n"
     ]
    }
   ],
   "source": [
    "my_image_descriptors = None\n",
    "my_X_features = None\n",
    "\n",
    "\n",
    "my_image_descriptors = extract_sift_features(my_X)\n",
    "my_X_features = create_features_bow(my_image_descriptors, BoW, num_clusters)\n",
    "\n",
    "\n",
    "print(len(my_image_descriptors))\n",
    "print(my_X_features[0].shape)"
   ]
  },
  {
   "cell_type": "markdown",
   "metadata": {},
   "source": [
    "__Bước 3:__ Sử dụng mô hình đã huấn luyện để dự đoán, kết quả dự đoán lưu vào biến my_y_pred"
   ]
  },
  {
   "cell_type": "code",
   "execution_count": 24,
   "metadata": {
    "collapsed": false
   },
   "outputs": [
    {
     "name": "stdout",
     "output_type": "stream",
     "text": [
      "[3]\n",
      "{'pedestrian': 0, 'moto': 1, 'truck': 2, 'car': 3, 'bus': 4}\n",
      "Your prediction:  car\n"
     ]
    }
   ],
   "source": [
    "y_pred = None\n",
    "\n",
    "\n",
    "y_pred = svm.predict(my_X_features)\n",
    "print(y_pred)\n",
    "print(label2id)\n",
    "# Get your label name using label2id variable (define above)\n",
    "for key, value in label2id.items():\n",
    "    if value == y_pred[0]:\n",
    "        print('Your prediction: ', key)"
   ]
  }
 ],
 "metadata": {
  "kernelspec": {
   "display_name": "Python 3",
   "language": "python",
   "name": "python3"
  },
  "language_info": {
   "codemirror_mode": {
    "name": "ipython",
    "version": 3
   },
   "file_extension": ".py",
   "mimetype": "text/x-python",
   "name": "python",
   "nbconvert_exporter": "python",
   "pygments_lexer": "ipython3",
   "version": "3.9.2"
  }
 },
 "nbformat": 4,
 "nbformat_minor": 2
}
