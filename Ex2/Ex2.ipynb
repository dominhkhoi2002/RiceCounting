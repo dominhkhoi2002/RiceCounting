{
 "cells": [
  {
   "cell_type": "code",
   "execution_count": 74,
   "metadata": {
    "collapsed": false
   },
   "outputs": [],
   "source": [
    "import warnings\n",
    "warnings.filterwarnings(\"ignore\")\n",
    "\n",
    "import os\n",
    "import numpy as np\n",
    "import cv2\n",
    "from cv2 import xfeatures2d\n",
    "import matplotlib.pyplot as plt\n",
    "import pickle\n",
    "import sklearn\n",
    "\n",
    "from sklearn.cluster import KMeans\n",
    "from scipy.spatial.distance import cdist"
   ]
  },
  {
   "cell_type": "code",
   "execution_count": 75,
   "metadata": {
    "collapsed": true
   },
   "outputs": [],
   "source": [
    "def load_image(image_path):\n",
    "    return cv2.imread(image_path)"
   ]
  },
  {
   "cell_type": "code",
   "execution_count": 76,
   "metadata": {
    "collapsed": true
   },
   "outputs": [],
   "source": [
    "def statistic():\n",
    "    label = []\n",
    "    num_images = []\n",
    "    for lab in os.listdir('trainingset'):\n",
    "        label.append(lab)\n",
    "        num_images.append(len(os.listdir(os.path.join('trainingset', lab))))\n",
    "\n",
    "    return label, num_images"
   ]
  },
  {
   "cell_type": "code",
   "execution_count": 77,
   "metadata": {
    "collapsed": false
   },
   "outputs": [
    {
     "data": {
      "image/png": "[encoded data removed]",
      "text/plain": [
       "<Figure size 432x288 with 1 Axes>"
      ]
     },
     "metadata": {
      "needs_background": "light"
     },
     "output_type": "display_data"
    },
    {
     "name": "stdout",
     "output_type": "stream",
     "text": [
      "Total images: 1586\n"
     ]
    }
   ],
   "source": [
    "label, num_images = statistic()\n",
    "\n",
    "y_pos = np.arange(len(label))\n",
    "\n",
    "plt.barh(y_pos, num_images, align='center', alpha=0.5)\n",
    "plt.yticks(y_pos, label)\n",
    "plt.show()\n",
    "\n",
    "print('Total images: %d' %(sum(num_images)))"
   ]
  },
  {
   "cell_type": "code",
   "execution_count": 78,
   "metadata": {
    "collapsed": true
   },
   "outputs": [],
   "source": [
    "def read_data(label2id):\n",
    "    X = []\n",
    "    Y = []\n",
    "\n",
    "    for label in os.listdir('trainingset'):\n",
    "        for img_file in os.listdir(os.path.join('trainingset', label)):\n",
    "        \n",
    "            img = load_image(os.path.join('trainingset', label, img_file))\n",
    "            X.append(img)\n",
    "            Y.append(label2id[label])\n",
    "    return X, Y"
   ]
  },
  {
   "cell_type": "code",
   "execution_count": 79,
   "metadata": {
    "collapsed": false
   },
   "outputs": [
    {
     "name": "stdout",
     "output_type": "stream",
     "text": [
      "1586\n",
      "1586\n",
      "(168, 134, 3)\n",
      "4\n"
     ]
    }
   ],
   "source": [
    "# Label to id, used to convert string label to integer \n",
    "label2id = {'pedestrian':0, 'moto':1, 'truck':2, 'car':3, 'bus':4}\n",
    "X, Y = read_data(label2id)\n",
    "print(len(X))\n",
    "print(len(Y))\n",
    "print(X[0].shape)\n",
    "print(Y[0])"
   ]
  },
  {
   "cell_type": "code",
   "execution_count": 80,
   "metadata": {
    "collapsed": true
   },
   "outputs": [],
   "source": [
    "def extract_sift_features(X):\n",
    "    image_descriptors = []\n",
    "    sift = cv2.xfeatures2d.SIFT_create()\n",
    "\n",
    "    for i in range(len(X)):\n",
    "        kp, des = sift.detectAndCompute(X[i], None)\n",
    "    \n",
    "        image_descriptors.append(des)\n",
    "        \n",
    "\n",
    "    return image_descriptors"
   ]
  },
  {
   "cell_type": "code",
   "execution_count": 81,
   "metadata": {
    "collapsed": false
   },
   "outputs": [
    {
     "name": "stdout",
     "output_type": "stream",
     "text": [
      "1586\n",
      "<class 'numpy.ndarray'>\n",
      "Image 0 has 109 descriptors\n",
      "Image 1 has 148 descriptors\n",
      "Image 2 has 57 descriptors\n",
      "Image 3 has 29 descriptors\n",
      "Image 4 has 83 descriptors\n",
      "Image 5 has 28 descriptors\n",
      "Image 6 has 219 descriptors\n",
      "Image 7 has 22 descriptors\n",
      "Image 8 has 62 descriptors\n",
      "Image 9 has 181 descriptors\n"
     ]
    }
   ],
   "source": [
    "image_descriptors = extract_sift_features(X)\n",
    "print(len(image_descriptors))\n",
    "print(type(image_descriptors[0][0]))\n",
    "for i in range(10):\n",
    "    print('Image {} has {} descriptors'.format(i, len(image_descriptors[i])))"
   ]
  },
  {
   "cell_type": "code",
   "execution_count": 82,
   "metadata": {
    "collapsed": false
   },
   "outputs": [
    {
     "name": "stdout",
     "output_type": "stream",
     "text": [
      "Total number of descriptors: 149823\n"
     ]
    }
   ],
   "source": [
    "all_descriptors = []\n",
    "for descriptors in image_descriptors:\n",
    "    if descriptors is not None:\n",
    "        for des in descriptors:\n",
    "            all_descriptors.append(des)\n",
    "print('Total number of descriptors: %d' %(len(all_descriptors)))"
   ]
  },
  {
   "cell_type": "code",
   "execution_count": 83,
   "metadata": {
    "collapsed": true
   },
   "outputs": [],
   "source": [
    "def kmeans_bow(all_descriptors, num_clusters):\n",
    "    bow_dict = []\n",
    "    kmeans = KMeans(n_clusters=num_clusters).fit(all_descriptors)\n",
    "    bow_dict = kmeans.cluster_centers_\n",
    "\n",
    "    return bow_dict"
   ]
  },
  {
   "cell_type": "code",
   "execution_count": 84,
   "metadata": {
    "collapsed": false
   },
   "outputs": [
    {
     "name": "stdout",
     "output_type": "stream",
     "text": [
      "5\n",
      "<class 'numpy.ndarray'>\n"
     ]
    }
   ],
   "source": [
    "num_clusters = 5\n",
    "if not os.path.isfile('bow_dictionary150.pkl'):\n",
    "    BoW = kmeans_bow(all_descriptors, num_clusters)\n",
    "    pickle.dump(BoW, open('bow_dictionary150.pkl', 'wb'))\n",
    "else:\n",
    "    BoW = pickle.load(open('bow_dictionary150.pkl', 'rb'))\n",
    "    \n",
    "print(len(BoW))\n",
    "print(type(BoW[0]))"
   ]
  },
  {
   "cell_type": "code",
   "execution_count": 85,
   "metadata": {
    "collapsed": true
   },
   "outputs": [],
   "source": [
    "from scipy.spatial.distance import cdist"
   ]
  },
  {
   "cell_type": "code",
   "execution_count": 86,
   "metadata": {
    "collapsed": true
   },
   "outputs": [],
   "source": [
    "def create_features_bow(image_descriptors, BoW, num_clusters):\n",
    "    X_features = []\n",
    "\n",
    "    for i in range(len(image_descriptors)):\n",
    "        features = np.array([0] * num_clusters)\n",
    "\n",
    "        if image_descriptors[i] is not None:\n",
    "            distance = cdist(image_descriptors[i], BoW)\n",
    "            argmin = np.argmin(distance, axis=1)\n",
    "            for j in argmin:\n",
    "                features[j] += 1\n",
    "        X_features.append(features)\n",
    "\n",
    "\n",
    "    return X_features"
   ]
  },
  {
   "cell_type": "code",
   "execution_count": 87,
   "metadata": {
    "collapsed": false
   },
   "outputs": [
    {
     "name": "stdout",
     "output_type": "stream",
     "text": [
      "(109, 128)\n",
      "(128,)\n",
      "1586\n",
      "[20 37 22 17 13]\n",
      "109\n",
      "109\n"
     ]
    }
   ],
   "source": [
    "print(image_descriptors[0].shape)\n",
    "print(BoW[0].shape)\n",
    "X_features = create_features_bow(image_descriptors, BoW, num_clusters)\n",
    "print(len(X_features))\n",
    "print(X_features[0])\n",
    "print(sum(X_features[0]))\n",
    "print(image_descriptors[0].shape[0])"
   ]
  },
  {
   "cell_type": "code",
   "execution_count": 88,
   "metadata": {
    "collapsed": false
   },
   "outputs": [
    {
     "name": "stdout",
     "output_type": "stream",
     "text": [
      "1586\n",
      "1586\n"
     ]
    }
   ],
   "source": [
    "print(len(X_features))\n",
    "print(len(Y))"
   ]
  },
  {
   "cell_type": "code",
   "execution_count": 89,
   "metadata": {
    "collapsed": false
   },
   "outputs": [
    {
     "name": "stdout",
     "output_type": "stream",
     "text": [
      "1268\n",
      "318\n"
     ]
    }
   ],
   "source": [
    "from sklearn.model_selection import train_test_split\n",
    "\n",
    "X_train = [] \n",
    "X_test = []\n",
    "Y_train = []\n",
    "Y_test = []\n",
    "X_train, X_test, Y_train, Y_test = train_test_split(X_features, Y, test_size=0.2, random_state=42)\n",
    "\n",
    "print(len(X_train))\n",
    "print(len(X_test))"
   ]
  },
  {
   "cell_type": "code",
   "execution_count": 90,
   "metadata": {
    "collapsed": false
   },
   "outputs": [
    {
     "data": {
      "text/plain": [
       "0.550314465408805"
      ]
     },
     "execution_count": 90,
     "metadata": {},
     "output_type": "execute_result"
    }
   ],
   "source": [
    "svm = sklearn.svm.SVC(C = 30)\n",
    "svm.fit(X_train, Y_train)\n",
    "svm.score(X_train, Y_train)\n",
    "svm.score(X_test, Y_test)"
   ]
  },
  {
   "cell_type": "code",
   "execution_count": 91,
   "metadata": {
    "collapsed": false
   },
   "outputs": [
    {
     "data": {
      "image/png": "[encoded data removed]",
      "text/plain": [
       "<Figure size 432x288 with 1 Axes>"
      ]
     },
     "metadata": {
      "needs_background": "light"
     },
     "output_type": "display_data"
    }
   ],
   "source": [
    "img = load_image('image_test/bus.png')\n",
    "plt.imshow(cv2.cvtColor(img, cv2.COLOR_BGR2RGB))\n",
    "plt.show()\n",
    "\n",
    "my_X = [img]"
   ]
  },
  {
   "cell_type": "code",
   "execution_count": 92,
   "metadata": {
    "collapsed": false
   },
   "outputs": [
    {
     "name": "stdout",
     "output_type": "stream",
     "text": [
      "1\n",
      "(5,)\n"
     ]
    }
   ],
   "source": [
    "\n",
    "my_image_descriptors = extract_sift_features(my_X)\n",
    "my_X_features = create_features_bow(my_image_descriptors, BoW, num_clusters)\n",
    "\n",
    "print(len(my_image_descriptors))\n",
    "print(my_X_features[0].shape)"
   ]
  },
  {
   "cell_type": "code",
   "execution_count": 93,
   "metadata": {
    "collapsed": false
   },
   "outputs": [
    {
     "name": "stdout",
     "output_type": "stream",
     "text": [
      "[3]\n",
      "{'pedestrian': 0, 'moto': 1, 'truck': 2, 'car': 3, 'bus': 4}\n",
      "Your prediction:  car\n"
     ]
    }
   ],
   "source": [
    "\n",
    "y_pred = svm.predict(my_X_features)\n",
    "print(y_pred)\n",
    "print(label2id)\n",
    "# Get your label name using label2id variable (define above)\n",
    "for key, value in label2id.items():\n",
    "    if value == y_pred[0]:\n",
    "        print('Your prediction: ', key)"
   ]
  }
 ],
 "metadata": {
  "kernelspec": {
   "display_name": "Python 3",
   "language": "python",
   "name": "python3"
  },
  "language_info": {
   "codemirror_mode": {
    "name": "ipython",
    "version": 3
   },
   "file_extension": ".py",
   "mimetype": "text/x-python",
   "name": "python",
   "nbconvert_exporter": "python",
   "pygments_lexer": "ipython3",
   "version": "3.9.2"
  }
 },
 "nbformat": 4,
 "nbformat_minor": 2
}
